{
 "cells": [
  {
   "cell_type": "code",
   "execution_count": 1,
   "id": "4b89e6af-bd97-4994-aad2-a2a8c2ad549b",
   "metadata": {},
   "outputs": [],
   "source": [
    "import random\n",
    "\n",
    "def tas_kagit_makas_Gizem_Anbarci():\n",
    "    print(\"Merhabaaa !! Taş, Kağıt, Makas Oyununa Hoş Geldiniz!\")\n",
    "    print(\"Oyun kuralları:\")\n",
    "    print(\"1. Kağıt, taşı yener.\")\n",
    "    print(\"2. Makas, kağıdı yener.\")\n",
    "    print(\"3. Taş, makası yener.\")\n",
    "    print(\"iki tur kazanan oyunu kazanır.\")\n",
    "    print(\"Oyundan çıkmak için 'exit' yazabilirsiniz.\\n\")\n",
    "\n",
    "    oyun_sayisi = 0\n",
    "    while True:\n",
    "        oyun_sayisi += 1\n",
    "        print(f\"\\nOyun {oyun_sayisi}\")\n",
    "        oyuncu_galibiyet = 0\n",
    "        bilgisayar_galibiyet = 0\n",
    "        tur_sayisi = 0\n",
    "        \n",
    "        while oyuncu_galibiyet < 2 and bilgisayar_galibiyet < 2:\n",
    "            tur_sayisi += 1\n",
    "            print(f\"\\nTur {tur_sayisi}\")\n",
    "            oyuncu_secimi = input(\"Lütfen seçiminizi yapın (Taş, Kağıt, Makas veya exit): \").lower()\n",
    "            \n",
    "            if oyuncu_secimi == \"exit\":\n",
    "                print(\"Oyundan çıkılıyor... Görüşmek üzere!\")\n",
    "                return  # Fonksiyonu sonlandırarak oyundan çıkış yapar.\n",
    "\n",
    "            while oyuncu_secimi not in [\"taş\", \"tas\", \"kağıt\", \"kagit\", \"makas\", \"exit\"]:\n",
    "                oyuncu_secimi = input(\"Geçersiz seçim! Lütfen tekrar seçin (Taş, Kağıt, Makas veya exit): \").lower()\n",
    "                \n",
    "                if oyuncu_secimi == \"exit\":\n",
    "                    print(\"Oyundan çıkılıyor... Görüşmek üzere!\")\n",
    "                    return\n",
    "            \n",
    "            bilgisayar_secimi = random.choice([\"taş\", \"kağıt\", \"makas\"])\n",
    "            print(f\"Bilgisayarın seçimi: {bilgisayar_secimi.capitalize()}\")\n",
    "\n",
    "            if oyuncu_secimi == bilgisayar_secimi:\n",
    "                print(\"Bu turda beraberlik!\")\n",
    "            elif (oyuncu_secimi == \"kağıt\" and bilgisayar_secimi == \"taş\") or \\\n",
    "                 (oyuncu_secimi == \"makas\" and bilgisayar_secimi == \"kağıt\") or \\\n",
    "                 (oyuncu_secimi == \"taş\" and bilgisayar_secimi == \"makas\"):\n",
    "                print(\"Bu turu siz kazandınız!\")\n",
    "                oyuncu_galibiyet += 1\n",
    "            else:\n",
    "                print(\"Bu turu bilgisayar kazandı!\")\n",
    "                bilgisayar_galibiyet += 1\n",
    "\n",
    "            print(f\"Skor - Siz: {oyuncu_galibiyet}, Bilgisayar: {bilgisayar_galibiyet}\")\n",
    "\n",
    "        if oyuncu_galibiyet == 2:\n",
    "            print(\"\\nTebrikler, oyunu kazandınız!\")\n",
    "        else:\n",
    "            print(\"\\nMaalesef, oyunu bilgisayar kazandı!\")\n",
    "\n",
    "        devam = input(\"Başka bir oyun oynamak ister misiniz? (evet/hayır): \").lower()\n",
    "        bilgisayar_devam = random.choice([\"evet\", \"hayır\"])\n",
    "        print(f\"Bilgisayarın cevabı: {bilgisayar_devam.capitalize()}\")\n",
    "\n",
    "        if devam != \"evet\" or bilgisayar_devam != \"evet\":\n",
    "            print(\"Oyun sona erdi. Görüşmek üzere!\")\n",
    "            break\n"
   ]
  },
  {
   "cell_type": "code",
   "execution_count": 3,
   "id": "ec7af68e-264f-4783-b4da-882629bc1cd2",
   "metadata": {},
   "outputs": [
    {
     "name": "stdout",
     "output_type": "stream",
     "text": [
      "Merhabaaa !! Taş, Kağıt, Makas Oyununa Hoş Geldiniz!\n",
      "Oyun kuralları:\n",
      "1. Kağıt, taşı yener.\n",
      "2. Makas, kağıdı yener.\n",
      "3. Taş, makası yener.\n",
      "iki tur kazanan oyunu kazanır.\n",
      "Oyundan çıkmak için 'exit' yazabilirsiniz.\n",
      "\n",
      "\n",
      "Oyun 1\n",
      "\n",
      "Tur 1\n"
     ]
    },
    {
     "name": "stdin",
     "output_type": "stream",
     "text": [
      "Lütfen seçiminizi yapın (Taş, Kağıt, Makas veya exit):  tas\n"
     ]
    },
    {
     "name": "stdout",
     "output_type": "stream",
     "text": [
      "Bilgisayarın seçimi: Kağıt\n",
      "Bu turu bilgisayar kazandı!\n",
      "Skor - Siz: 0, Bilgisayar: 1\n",
      "\n",
      "Tur 2\n"
     ]
    },
    {
     "name": "stdin",
     "output_type": "stream",
     "text": [
      "Lütfen seçiminizi yapın (Taş, Kağıt, Makas veya exit):  kagit\n"
     ]
    },
    {
     "name": "stdout",
     "output_type": "stream",
     "text": [
      "Bilgisayarın seçimi: Kağıt\n",
      "Bu turu bilgisayar kazandı!\n",
      "Skor - Siz: 0, Bilgisayar: 2\n",
      "\n",
      "Maalesef, oyunu bilgisayar kazandı!\n"
     ]
    },
    {
     "name": "stdin",
     "output_type": "stream",
     "text": [
      "Başka bir oyun oynamak ister misiniz? (evet/hayır):  hayir\n"
     ]
    },
    {
     "name": "stdout",
     "output_type": "stream",
     "text": [
      "Bilgisayarın cevabı: Evet\n",
      "Oyun sona erdi. Görüşmek üzere!\n"
     ]
    }
   ],
   "source": [
    "tas_kagit_makas_Gizem_Anbarci()"
   ]
  },
  {
   "cell_type": "code",
   "execution_count": 5,
   "id": "e7c8116f-7270-4e15-bebf-efbc4959b76f",
   "metadata": {},
   "outputs": [
    {
     "name": "stdout",
     "output_type": "stream",
     "text": [
      "Merhabaaa !! Taş, Kağıt, Makas Oyununa Hoş Geldiniz!\n",
      "Oyun kuralları:\n",
      "1. Kağıt, taşı yener.\n",
      "2. Makas, kağıdı yener.\n",
      "3. Taş, makası yener.\n",
      "iki tur kazanan oyunu kazanır.\n",
      "Oyundan çıkmak için 'exit' yazabilirsiniz.\n",
      "\n",
      "\n",
      "Oyun 1\n",
      "\n",
      "Tur 1\n"
     ]
    },
    {
     "name": "stdin",
     "output_type": "stream",
     "text": [
      "Lütfen seçiminizi yapın (Taş, Kağıt, Makas veya exit):  exit\n"
     ]
    },
    {
     "name": "stdout",
     "output_type": "stream",
     "text": [
      "Oyundan çıkılıyor... Görüşmek üzere!\n"
     ]
    }
   ],
   "source": [
    "tas_kagit_makas_Gizem_Anbarci()"
   ]
  },
  {
   "cell_type": "code",
   "execution_count": null,
   "id": "7758f3e0-c62e-4f6e-acfa-58e58b3880bd",
   "metadata": {},
   "outputs": [],
   "source": []
  }
 ],
 "metadata": {
  "kernelspec": {
   "display_name": "Python 3 (ipykernel)",
   "language": "python",
   "name": "python3"
  },
  "language_info": {
   "codemirror_mode": {
    "name": "ipython",
    "version": 3
   },
   "file_extension": ".py",
   "mimetype": "text/x-python",
   "name": "python",
   "nbconvert_exporter": "python",
   "pygments_lexer": "ipython3",
   "version": "3.11.7"
  }
 },
 "nbformat": 4,
 "nbformat_minor": 5
}
